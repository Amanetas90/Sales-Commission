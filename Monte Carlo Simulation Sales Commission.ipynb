{
 "cells": [
  {
   "cell_type": "code",
   "execution_count": 1,
   "metadata": {},
   "outputs": [
    {
     "name": "stderr",
     "output_type": "stream",
     "text": [
      "C:\\Users\\afm6343\\AppData\\Local\\Continuum\\anaconda3\\lib\\site-packages\\pandas\\compat\\_optional.py:138: UserWarning: Pandas requires version '2.7.0' or newer of 'numexpr' (version '2.6.9' currently installed).\n",
      "  warnings.warn(msg, UserWarning)\n",
      "C:\\Users\\afm6343\\AppData\\Local\\Continuum\\anaconda3\\lib\\site-packages\\statsmodels\\tools\\_testing.py:19: FutureWarning: pandas.util.testing is deprecated. Use the functions in the public API at pandas.testing instead.\n",
      "  import pandas.util.testing as tm\n"
     ]
    }
   ],
   "source": [
    "import pandas as pd\n",
    "import numpy as np\n",
    "import seaborn as sns\n",
    "\n",
    "sns.set_style('whitegrid')"
   ]
  },
  {
   "cell_type": "code",
   "execution_count": 2,
   "metadata": {},
   "outputs": [],
   "source": [
    "avg = 1\n",
    "std_dev = .1\n",
    "num_reps = 500\n",
    "num_simulations = 1000"
   ]
  },
  {
   "cell_type": "code",
   "execution_count": 3,
   "metadata": {},
   "outputs": [],
   "source": [
    "#numpy to generate a list of percentages that will replicate our historical normal distribution: \n",
    "#round to 2 decimal places\n",
    "pct_to_target = np.random.normal(avg, std_dev, num_reps).round(2)"
   ]
  },
  {
   "cell_type": "code",
   "execution_count": 4,
   "metadata": {},
   "outputs": [
    {
     "name": "stdout",
     "output_type": "stream",
     "text": [
      "[0.99 1.13 1.12 0.99 1.05 0.67 0.91 1.11 1.06 1.02 1.12 1.06 0.92 1.12\n",
      " 1.07 0.95 1.1  0.98 1.04 0.89 1.03 1.1  1.01 0.88 1.23 0.88 1.14 1.15\n",
      " 0.96 0.9  0.81 1.09 0.95 1.18 1.04 0.97 0.97 1.19 1.05 0.98 1.03 0.9\n",
      " 0.93 0.78 1.23 0.95 0.82 1.13 1.18 1.03 1.02 1.08 0.88 1.02 0.84 1.\n",
      " 1.11 0.97 1.22 1.2  1.   0.83 1.05 1.13 0.97 1.08 1.15 0.99 1.   0.99\n",
      " 0.89 1.01 1.07 0.93 0.98 1.02 1.18 1.03 0.94 1.07 1.11 0.8  1.03 1.05\n",
      " 1.07 0.87 0.96 1.15 0.99 0.99 0.91 0.96 0.79 0.96 0.95 0.89 0.94 0.96\n",
      " 0.94 1.06 1.14 1.03 0.97 1.02 0.94 1.03 0.96 1.12 1.17 1.03 0.98 1.16\n",
      " 0.95 1.02 1.01 0.98 0.94 1.09 1.1  1.01 1.19 0.96 0.9  0.96 1.02 0.86\n",
      " 1.09 1.08 1.01 1.07 0.93 1.05 0.92 1.06 0.97 0.96 1.04 0.9  1.   1.02\n",
      " 1.   0.99 0.97 1.24 0.98 1.02 0.96 1.06 1.02 1.08 0.87 1.05 0.84 1.01\n",
      " 0.91 1.11 0.78 1.16 1.07 0.98 0.92 0.89 0.98 0.96 0.92 1.   1.13 1.07\n",
      " 1.02 0.86 0.95 1.05 0.99 0.89 1.1  1.03 1.07 1.14 1.05 0.91 0.89 0.95\n",
      " 0.98 0.86 0.84 0.89 1.01 1.02 0.97 0.92 0.92 1.03 1.01 0.97 0.84 1.03\n",
      " 0.9  0.86 0.87 1.14 1.01 1.02 1.07 1.25 0.86 1.02 1.02 0.91 1.04 0.94\n",
      " 1.28 1.05 1.   0.99 0.99 0.77 1.03 1.05 0.99 0.91 0.9  1.06 1.16 0.96\n",
      " 0.98 0.93 1.04 0.99 0.97 1.01 1.03 0.79 0.97 0.82 1.06 1.18 1.01 0.95\n",
      " 1.1  0.84 1.06 1.   0.79 0.98 0.93 1.09 0.95 0.9  0.97 1.08 1.23 0.85\n",
      " 0.91 0.98 0.9  1.02 1.02 0.82 1.05 0.91 1.05 1.   1.11 1.18 0.97 0.85\n",
      " 1.   1.01 0.82 0.9  0.93 0.94 0.99 1.02 0.91 1.09 0.98 1.   0.79 1.12\n",
      " 1.06 0.93 0.96 1.04 0.86 1.   1.07 1.07 0.96 1.18 0.9  1.02 1.09 0.87\n",
      " 1.   1.08 0.89 0.97 1.01 1.03 1.22 0.92 0.93 0.89 1.02 0.97 1.03 1.09\n",
      " 0.99 1.16 0.97 1.07 0.9  1.   0.91 1.   1.19 0.85 1.22 1.07 1.14 0.94\n",
      " 0.88 1.11 0.99 1.   1.07 1.   0.84 0.86 1.1  1.01 0.87 1.03 0.95 1.04\n",
      " 1.04 0.89 1.02 0.84 1.03 0.97 1.03 1.07 1.1  1.22 0.95 0.94 1.18 1.04\n",
      " 1.08 0.97 1.07 1.   1.09 0.85 1.07 0.94 0.94 1.1  1.05 1.05 0.97 1.21\n",
      " 1.05 0.8  1.08 1.03 1.14 1.05 1.03 0.92 0.98 0.97 1.05 1.05 1.12 1.11\n",
      " 0.96 1.01 1.04 0.95 0.96 1.1  0.99 1.06 1.   1.04 1.11 1.05 0.83 1.04\n",
      " 0.9  0.99 1.11 0.96 1.06 1.06 1.02 1.01 0.97 0.88 1.1  1.02 0.89 0.86\n",
      " 0.83 0.88 0.98 0.88 1.09 1.04 0.9  0.94 1.02 1.09 1.11 0.97 1.   1.1\n",
      " 1.13 1.15 1.01 1.   0.92 1.09 1.02 1.06 0.92 0.84 1.03 1.17 1.05 0.93\n",
      " 1.04 0.81 0.93 1.   1.04 1.02 0.94 0.93 0.94 0.97 1.11 1.09 0.93 1.02\n",
      " 1.05 1.1  0.73 1.04 0.96 1.06 1.07 1.08 1.07 0.95 1.01 1.1  1.09 1.01\n",
      " 1.1  0.96 1.05 1.05 1.11 1.03 1.14 0.99 1.13 0.84 1.07 0.98 1.15 1.19\n",
      " 1.   1.01 0.97 0.82 1.06 1.16 1.08 1.1  0.96 1.19 1.05 1.09 1.2  1.03\n",
      " 1.05 0.8  1.   0.97 0.95 0.87 1.   0.98 1.02 1.02]\n"
     ]
    }
   ],
   "source": [
    "print(pct_to_target)"
   ]
  },
  {
   "cell_type": "code",
   "execution_count": 5,
   "metadata": {},
   "outputs": [],
   "source": [
    "sales_target_values = [75_000, 100_000, 200_000, 300_000, 400_000, 500_000]\n",
    "sales_target_prob = [.3, .3, .2, .1, .05, .05]\n",
    "sales_target = np.random.choice(sales_target_values, num_reps, p=sales_target_prob)"
   ]
  },
  {
   "cell_type": "code",
   "execution_count": 6,
   "metadata": {},
   "outputs": [],
   "source": [
    "df = pd.DataFrame(index=range(num_reps), data={'Pct_To_Target': pct_to_target,\n",
    "                                               'Sales_Target': sales_target})\n",
    "\n",
    "df['Sales'] = df['Pct_To_Target'] * df['Sales_Target']"
   ]
  },
  {
   "cell_type": "code",
   "execution_count": 8,
   "metadata": {},
   "outputs": [
    {
     "data": {
      "text/html": [
       "<div>\n",
       "<style scoped>\n",
       "    .dataframe tbody tr th:only-of-type {\n",
       "        vertical-align: middle;\n",
       "    }\n",
       "\n",
       "    .dataframe tbody tr th {\n",
       "        vertical-align: top;\n",
       "    }\n",
       "\n",
       "    .dataframe thead th {\n",
       "        text-align: right;\n",
       "    }\n",
       "</style>\n",
       "<table border=\"1\" class=\"dataframe\">\n",
       "  <thead>\n",
       "    <tr style=\"text-align: right;\">\n",
       "      <th></th>\n",
       "      <th>Pct_To_Target</th>\n",
       "      <th>Sales_Target</th>\n",
       "      <th>Sales</th>\n",
       "    </tr>\n",
       "  </thead>\n",
       "  <tbody>\n",
       "    <tr>\n",
       "      <th>0</th>\n",
       "      <td>0.99</td>\n",
       "      <td>200000</td>\n",
       "      <td>198000.0</td>\n",
       "    </tr>\n",
       "    <tr>\n",
       "      <th>1</th>\n",
       "      <td>1.13</td>\n",
       "      <td>200000</td>\n",
       "      <td>226000.0</td>\n",
       "    </tr>\n",
       "    <tr>\n",
       "      <th>2</th>\n",
       "      <td>1.12</td>\n",
       "      <td>75000</td>\n",
       "      <td>84000.0</td>\n",
       "    </tr>\n",
       "    <tr>\n",
       "      <th>3</th>\n",
       "      <td>0.99</td>\n",
       "      <td>300000</td>\n",
       "      <td>297000.0</td>\n",
       "    </tr>\n",
       "    <tr>\n",
       "      <th>4</th>\n",
       "      <td>1.05</td>\n",
       "      <td>100000</td>\n",
       "      <td>105000.0</td>\n",
       "    </tr>\n",
       "  </tbody>\n",
       "</table>\n",
       "</div>"
      ],
      "text/plain": [
       "   Pct_To_Target  Sales_Target     Sales\n",
       "0           0.99        200000  198000.0\n",
       "1           1.13        200000  226000.0\n",
       "2           1.12         75000   84000.0\n",
       "3           0.99        300000  297000.0\n",
       "4           1.05        100000  105000.0"
      ]
     },
     "execution_count": 8,
     "metadata": {},
     "output_type": "execute_result"
    }
   ],
   "source": [
    "df.head()"
   ]
  },
  {
   "cell_type": "code",
   "execution_count": 9,
   "metadata": {},
   "outputs": [],
   "source": [
    "def calc_commission_rate(x):\n",
    "    \"\"\" Return the commission rate based on the table:\n",
    "    0-90% = 2%\n",
    "    91-99% = 3%\n",
    "    >= 100 = 4%\n",
    "    \"\"\"\n",
    "    if x <= .90:\n",
    "        return .02\n",
    "    if x <= .99:\n",
    "        return .03\n",
    "    else:\n",
    "        return .04"
   ]
  },
  {
   "cell_type": "code",
   "execution_count": 10,
   "metadata": {},
   "outputs": [],
   "source": [
    "df['Commission_Rate'] = df['Pct_To_Target'].apply(calc_commission_rate)\n",
    "df['Commission_Amount'] = df['Commission_Rate'] * df['Sales']"
   ]
  },
  {
   "cell_type": "code",
   "execution_count": 11,
   "metadata": {},
   "outputs": [
    {
     "data": {
      "text/html": [
       "<div>\n",
       "<style scoped>\n",
       "    .dataframe tbody tr th:only-of-type {\n",
       "        vertical-align: middle;\n",
       "    }\n",
       "\n",
       "    .dataframe tbody tr th {\n",
       "        vertical-align: top;\n",
       "    }\n",
       "\n",
       "    .dataframe thead th {\n",
       "        text-align: right;\n",
       "    }\n",
       "</style>\n",
       "<table border=\"1\" class=\"dataframe\">\n",
       "  <thead>\n",
       "    <tr style=\"text-align: right;\">\n",
       "      <th></th>\n",
       "      <th>Pct_To_Target</th>\n",
       "      <th>Sales_Target</th>\n",
       "      <th>Sales</th>\n",
       "      <th>Commission_Rate</th>\n",
       "      <th>Commission_Amount</th>\n",
       "    </tr>\n",
       "  </thead>\n",
       "  <tbody>\n",
       "    <tr>\n",
       "      <th>0</th>\n",
       "      <td>0.99</td>\n",
       "      <td>200000</td>\n",
       "      <td>198000.0</td>\n",
       "      <td>0.03</td>\n",
       "      <td>5940.0</td>\n",
       "    </tr>\n",
       "    <tr>\n",
       "      <th>1</th>\n",
       "      <td>1.13</td>\n",
       "      <td>200000</td>\n",
       "      <td>226000.0</td>\n",
       "      <td>0.04</td>\n",
       "      <td>9040.0</td>\n",
       "    </tr>\n",
       "    <tr>\n",
       "      <th>2</th>\n",
       "      <td>1.12</td>\n",
       "      <td>75000</td>\n",
       "      <td>84000.0</td>\n",
       "      <td>0.04</td>\n",
       "      <td>3360.0</td>\n",
       "    </tr>\n",
       "    <tr>\n",
       "      <th>3</th>\n",
       "      <td>0.99</td>\n",
       "      <td>300000</td>\n",
       "      <td>297000.0</td>\n",
       "      <td>0.03</td>\n",
       "      <td>8910.0</td>\n",
       "    </tr>\n",
       "    <tr>\n",
       "      <th>4</th>\n",
       "      <td>1.05</td>\n",
       "      <td>100000</td>\n",
       "      <td>105000.0</td>\n",
       "      <td>0.04</td>\n",
       "      <td>4200.0</td>\n",
       "    </tr>\n",
       "  </tbody>\n",
       "</table>\n",
       "</div>"
      ],
      "text/plain": [
       "   Pct_To_Target  Sales_Target     Sales  Commission_Rate  Commission_Amount\n",
       "0           0.99        200000  198000.0             0.03             5940.0\n",
       "1           1.13        200000  226000.0             0.04             9040.0\n",
       "2           1.12         75000   84000.0             0.04             3360.0\n",
       "3           0.99        300000  297000.0             0.03             8910.0\n",
       "4           1.05        100000  105000.0             0.04             4200.0"
      ]
     },
     "execution_count": 11,
     "metadata": {},
     "output_type": "execute_result"
    }
   ],
   "source": [
    "df.head()"
   ]
  },
  {
   "cell_type": "code",
   "execution_count": 16,
   "metadata": {},
   "outputs": [
    {
     "data": {
      "text/plain": [
       "2888345.0"
      ]
     },
     "execution_count": 16,
     "metadata": {},
     "output_type": "execute_result"
    }
   ],
   "source": [
    "df.Commission_Amount.sum()"
   ]
  },
  {
   "cell_type": "code",
   "execution_count": 17,
   "metadata": {},
   "outputs": [],
   "source": [
    "# Define a list to keep all the results from each simulation that we want to analyze\n",
    "all_stats = []\n",
    "\n",
    "# Loop through many simulations\n",
    "for i in range(num_simulations):\n",
    "\n",
    "    # Choose random inputs for the sales targets and percent to target\n",
    "    sales_target = np.random.choice(sales_target_values, num_reps, p=sales_target_prob)\n",
    "    pct_to_target = np.random.normal(avg, std_dev, num_reps).round(2)\n",
    "\n",
    "    # Build the dataframe based on the inputs and number of reps\n",
    "    df = pd.DataFrame(index=range(num_reps), data={'Pct_To_Target': pct_to_target,\n",
    "                                                   'Sales_Target': sales_target})\n",
    "\n",
    "    # Back into the sales number using the percent to target rate\n",
    "    df['Sales'] = df['Pct_To_Target'] * df['Sales_Target']\n",
    "\n",
    "    # Determine the commissions rate and calculate it\n",
    "    df['Commission_Rate'] = df['Pct_To_Target'].apply(calc_commission_rate)\n",
    "    df['Commission_Amount'] = df['Commission_Rate'] * df['Sales']\n",
    "\n",
    "    # We want to track sales,commission amounts and sales targets over all the simulations\n",
    "    all_stats.append([df['Sales'].sum().round(0),\n",
    "                      df['Commission_Amount'].sum().round(0),\n",
    "                      df['Sales_Target'].sum().round(0)])"
   ]
  },
  {
   "cell_type": "code",
   "execution_count": 18,
   "metadata": {},
   "outputs": [],
   "source": [
    "results_df = pd.DataFrame.from_records(all_stats, columns=['Sales',\n",
    "                                                           'Commission_Amount',\n",
    "                                                           'Sales_Target'])"
   ]
  },
  {
   "cell_type": "code",
   "execution_count": 19,
   "metadata": {},
   "outputs": [
    {
     "data": {
      "text/html": [
       "<style type=\"text/css\">\n",
       "</style>\n",
       "<table id=\"T_8db56_\">\n",
       "  <thead>\n",
       "    <tr>\n",
       "      <th class=\"blank level0\" >&nbsp;</th>\n",
       "      <th class=\"col_heading level0 col0\" >Sales</th>\n",
       "      <th class=\"col_heading level0 col1\" >Commission_Amount</th>\n",
       "      <th class=\"col_heading level0 col2\" >Sales_Target</th>\n",
       "    </tr>\n",
       "  </thead>\n",
       "  <tbody>\n",
       "    <tr>\n",
       "      <th id=\"T_8db56_level0_row0\" class=\"row_heading level0 row0\" >count</th>\n",
       "      <td id=\"T_8db56_row0_col0\" class=\"data row0 col0\" >1,000.0</td>\n",
       "      <td id=\"T_8db56_row0_col1\" class=\"data row0 col1\" >1,000.0</td>\n",
       "      <td id=\"T_8db56_row0_col2\" class=\"data row0 col2\" >1,000.0</td>\n",
       "    </tr>\n",
       "    <tr>\n",
       "      <th id=\"T_8db56_level0_row1\" class=\"row_heading level0 row1\" >mean</th>\n",
       "      <td id=\"T_8db56_row1_col0\" class=\"data row1 col0\" >83,678,666.0</td>\n",
       "      <td id=\"T_8db56_row1_col1\" class=\"data row1 col1\" >2,858,013.436</td>\n",
       "      <td id=\"T_8db56_row1_col2\" class=\"data row1 col2\" >83,665,725.0</td>\n",
       "    </tr>\n",
       "    <tr>\n",
       "      <th id=\"T_8db56_level0_row2\" class=\"row_heading level0 row2\" >std</th>\n",
       "      <td id=\"T_8db56_row2_col0\" class=\"data row2 col0\" >2,879,197.596378719</td>\n",
       "      <td id=\"T_8db56_row2_col1\" class=\"data row2 col1\" >108,600.07451145604</td>\n",
       "      <td id=\"T_8db56_row2_col2\" class=\"data row2 col2\" >2,815,401.5851136516</td>\n",
       "    </tr>\n",
       "    <tr>\n",
       "      <th id=\"T_8db56_level0_row3\" class=\"row_heading level0 row3\" >min</th>\n",
       "      <td id=\"T_8db56_row3_col0\" class=\"data row3 col0\" >74,786,000.0</td>\n",
       "      <td id=\"T_8db56_row3_col1\" class=\"data row3 col1\" >2,507,095.0</td>\n",
       "      <td id=\"T_8db56_row3_col2\" class=\"data row3 col2\" >75,350,000.0</td>\n",
       "    </tr>\n",
       "    <tr>\n",
       "      <th id=\"T_8db56_level0_row4\" class=\"row_heading level0 row4\" >25%</th>\n",
       "      <td id=\"T_8db56_row4_col0\" class=\"data row4 col0\" >81,788,187.5</td>\n",
       "      <td id=\"T_8db56_row4_col1\" class=\"data row4 col1\" >2,786,349.0</td>\n",
       "      <td id=\"T_8db56_row4_col2\" class=\"data row4 col2\" >81,750,000.0</td>\n",
       "    </tr>\n",
       "    <tr>\n",
       "      <th id=\"T_8db56_level0_row5\" class=\"row_heading level0 row5\" >50%</th>\n",
       "      <td id=\"T_8db56_row5_col0\" class=\"data row5 col0\" >83,785,250.0</td>\n",
       "      <td id=\"T_8db56_row5_col1\" class=\"data row5 col1\" >2,856,716.5</td>\n",
       "      <td id=\"T_8db56_row5_col2\" class=\"data row5 col2\" >83,837,500.0</td>\n",
       "    </tr>\n",
       "    <tr>\n",
       "      <th id=\"T_8db56_level0_row6\" class=\"row_heading level0 row6\" >75%</th>\n",
       "      <td id=\"T_8db56_row6_col0\" class=\"data row6 col0\" >85,624,625.0</td>\n",
       "      <td id=\"T_8db56_row6_col1\" class=\"data row6 col1\" >2,928,950.5</td>\n",
       "      <td id=\"T_8db56_row6_col2\" class=\"data row6 col2\" >85,575,000.0</td>\n",
       "    </tr>\n",
       "    <tr>\n",
       "      <th id=\"T_8db56_level0_row7\" class=\"row_heading level0 row7\" >max</th>\n",
       "      <td id=\"T_8db56_row7_col0\" class=\"data row7 col0\" >92,942,250.0</td>\n",
       "      <td id=\"T_8db56_row7_col1\" class=\"data row7 col1\" >3,208,122.0</td>\n",
       "      <td id=\"T_8db56_row7_col2\" class=\"data row7 col2\" >92,575,000.0</td>\n",
       "    </tr>\n",
       "  </tbody>\n",
       "</table>\n"
      ],
      "text/plain": [
       "<pandas.io.formats.style.Styler at 0x19103e9ce80>"
      ]
     },
     "execution_count": 19,
     "metadata": {},
     "output_type": "execute_result"
    }
   ],
   "source": [
    "results_df.describe().style.format('{:,}')"
   ]
  },
  {
   "cell_type": "code",
   "execution_count": null,
   "metadata": {},
   "outputs": [],
   "source": []
  }
 ],
 "metadata": {
  "kernelspec": {
   "display_name": "Python 3",
   "language": "python",
   "name": "python3"
  },
  "language_info": {
   "codemirror_mode": {
    "name": "ipython",
    "version": 3
   },
   "file_extension": ".py",
   "mimetype": "text/x-python",
   "name": "python",
   "nbconvert_exporter": "python",
   "pygments_lexer": "ipython3",
   "version": "3.7.3"
  }
 },
 "nbformat": 4,
 "nbformat_minor": 2
}
